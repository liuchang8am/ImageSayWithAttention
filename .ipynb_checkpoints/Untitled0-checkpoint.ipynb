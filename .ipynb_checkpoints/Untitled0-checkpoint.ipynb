{
 "metadata": {
  "language": "lua",
  "name": "",
  "signature": "sha256:baa8e86b0d4d9021a727a490b38754e8834ccb2ddc0782db3542cc548460ed37"
 },
 "nbformat": 3,
 "nbformat_minor": 0,
 "worksheets": [
  {
   "cells": [
    {
     "cell_type": "code",
     "collapsed": false,
     "input": [
      "require \"cjson\"\n",
      "json_file = io.open('./data/flickr8k/data.json', 'r')"
     ],
     "language": "python",
     "metadata": {},
     "outputs": [],
     "prompt_number": 1
    },
    {
     "cell_type": "code",
     "collapsed": false,
     "input": [
      "text = json_file:read()\n",
      "contents = cjson.decode(text)"
     ],
     "language": "python",
     "metadata": {},
     "outputs": [
      {
       "ename": "[string \"text = json_file:read()...\"]:2: attempt to index global 'cjson' (a nil value)\nstack traceback:\n\t[string \"text = json_file:read()...\"]:2: in main chunk\n\t[C]: in function 'xpcall'\n\t/home/lc/torch/install/share/lua/5.1/itorch/main.lua:179: in function </home/lc/torch/install/share/lua/5.1/itorch/main.lua:143>\n\t/home/lc/torch/install/share/lua/5.1/lzmq/poller.lua:75: in function 'poll'\n\t/home/lc/torch/install/share/lua/5.1/lzmq/impl/loop.lua:307: in function 'poll'\n\t/home/lc/torch/install/share/lua/5.1/lzmq/impl/loop.lua:325: in function 'sleep_ex'\n\t/home/lc/torch/install/share/lua/5.1/lzmq/impl/loop.lua:370: in function 'start'\n\t/home/lc/torch/install/share/lua/5.1/itorch/main.lua:350: in main chunk\n\t[C]: in function 'require'\n\t[string \"arg={'/home/lc/.ipython/profile_torch/securit...\"]:1: in main chunk",
       "evalue": "",
       "output_type": "pyerr",
       "traceback": [
        "[string \"text = json_file:read()...\"]:2: attempt to index global 'cjson' (a nil value)\nstack traceback:\n\t[string \"text = json_file:read()...\"]:2: in main chunk\n\t[C]: in function 'xpcall'\n\t/home/lc/torch/install/share/lua/5.1/itorch/main.lua:179: in function </home/lc/torch/install/share/lua/5.1/itorch/main.lua:143>\n\t/home/lc/torch/install/share/lua/5.1/lzmq/poller.lua:75: in function 'poll'\n\t/home/lc/torch/install/share/lua/5.1/lzmq/impl/loop.lua:307: in function 'poll'\n\t/home/lc/torch/install/share/lua/5.1/lzmq/impl/loop.lua:325: in function 'sleep_ex'\n\t/home/lc/torch/install/share/lua/5.1/lzmq/impl/loop.lua:370: in function 'start'\n\t/home/lc/torch/install/share/lua/5.1/itorch/main.lua:350: in main chunk\n\t[C]: in function 'require'\n\t[string \"arg={'/home/lc/.ipython/profile_torch/securit...\"]:1: in main chunk"
       ]
      }
     ],
     "prompt_number": 4
    },
    {
     "cell_type": "code",
     "collapsed": false,
     "input": [
      "require \"cjson\"\n",
      "json_file = io.open('./data/flickr8k/data.json', 'r')\n",
      "text = json_file:read()\n",
      "local cjson = require 'cjson'\n",
      "contents = cjson.decode(text)"
     ],
     "language": "python",
     "metadata": {},
     "outputs": [],
     "prompt_number": 6
    },
    {
     "cell_type": "code",
     "collapsed": false,
     "input": [
      "images_info = contents.images\n",
      "flickr8k = {images_info}"
     ],
     "language": "python",
     "metadata": {},
     "outputs": [],
     "prompt_number": 7
    },
    {
     "cell_type": "code",
     "collapsed": false,
     "input": [
      "flickr8k[1][91]['split']"
     ],
     "language": "python",
     "metadata": {},
     "outputs": [
      {
       "metadata": {},
       "output_type": "pyout",
       "prompt_number": 9,
       "text": [
        "test\t\n"
       ]
      }
     ],
     "prompt_number": 9
    },
    {
     "cell_type": "code",
     "collapsed": false,
     "input": [
      "require 'hdf5'\n",
      "h5_file = hdf5.open('./data/flickr8k/data.h5')\n",
      "sentences = h5_file:read('/labels'):all()\n"
     ],
     "language": "python",
     "metadata": {},
     "outputs": [],
     "prompt_number": 12
    },
    {
     "cell_type": "code",
     "collapsed": false,
     "input": [
      "print (sentences[1])"
     ],
     "language": "python",
     "metadata": {},
     "outputs": [
      {
       "metadata": {},
       "output_type": "pyout",
       "prompt_number": 43,
       "text": [
        "  98\n",
        "  14\n",
        " 193\n",
        " 256\n",
        "  96\n",
        " 356\n",
        " 362\n",
        "  98\n",
        "  15\n",
        " 185\n",
        " 256\n",
        " 204\n",
        "  98\n",
        "  14\n",
        "  85\n",
        "   0\n",
        "[torch.IntTensor of size 16]\n",
        "\n"
       ]
      }
     ],
     "prompt_number": 43
    },
    {
     "cell_type": "code",
     "collapsed": false,
     "input": [
      "for i = 1, (sentences[1]):size()[1]\n",
      "do\n",
      "    io.write (sentences[1][i], ' ')\n",
      "end"
     ],
     "language": "python",
     "metadata": {},
     "outputs": [
      {
       "ename": "[string \"for k,v in pairs(sentences[1])...\"]:1: bad argument #1 to 'pairs' (table expected, got userdata)\nstack traceback:\n\t[C]: in function 'pairs'\n\t[string \"for k,v in pairs(sentences[1])...\"]:1: in main chunk\n\t[C]: in function 'xpcall'\n\t/home/lc/torch/install/share/lua/5.1/itorch/main.lua:179: in function </home/lc/torch/install/share/lua/5.1/itorch/main.lua:143>\n\t/home/lc/torch/install/share/lua/5.1/lzmq/poller.lua:75: in function 'poll'\n\t/home/lc/torch/install/share/lua/5.1/lzmq/impl/loop.lua:307: in function 'poll'\n\t/home/lc/torch/install/share/lua/5.1/lzmq/impl/loop.lua:325: in function 'sleep_ex'\n\t/home/lc/torch/install/share/lua/5.1/lzmq/impl/loop.lua:370: in function 'start'\n\t/home/lc/torch/install/share/lua/5.1/itorch/main.lua:350: in main chunk\n\t[C]: in function 'require'\n\t[string \"arg={'/home/lc/.ipython/profile_torch/securit...\"]:1: in main chunk",
       "evalue": "",
       "output_type": "pyerr",
       "traceback": [
        "[string \"for k,v in pairs(sentences[1])...\"]:1: bad argument #1 to 'pairs' (table expected, got userdata)\nstack traceback:\n\t[C]: in function 'pairs'\n\t[string \"for k,v in pairs(sentences[1])...\"]:1: in main chunk\n\t[C]: in function 'xpcall'\n\t/home/lc/torch/install/share/lua/5.1/itorch/main.lua:179: in function </home/lc/torch/install/share/lua/5.1/itorch/main.lua:143>\n\t/home/lc/torch/install/share/lua/5.1/lzmq/poller.lua:75: in function 'poll'\n\t/home/lc/torch/install/share/lua/5.1/lzmq/impl/loop.lua:307: in function 'poll'\n\t/home/lc/torch/install/share/lua/5.1/lzmq/impl/loop.lua:325: in function 'sleep_ex'\n\t/home/lc/torch/install/share/lua/5.1/lzmq/impl/loop.lua:370: in function 'start'\n\t/home/lc/torch/install/share/lua/5.1/itorch/main.lua:350: in main chunk\n\t[C]: in function 'require'\n\t[string \"arg={'/home/lc/.ipython/profile_torch/securit...\"]:1: in main chunk"
       ]
      }
     ],
     "prompt_number": 42
    },
    {
     "cell_type": "code",
     "collapsed": false,
     "input": [
      "(sentences[1]):size()[1]"
     ],
     "language": "python",
     "metadata": {},
     "outputs": [
      {
       "metadata": {},
       "output_type": "pyout",
       "prompt_number": 52,
       "text": [
        "16\t\n"
       ]
      }
     ],
     "prompt_number": 52
    },
    {
     "cell_type": "code",
     "collapsed": false,
     "input": [
      "A = sentences[1]:size()\n",
      "B = tonumber(\"10\")\n",
      "print (A)\n",
      "print (B)"
     ],
     "language": "python",
     "metadata": {},
     "outputs": [
      {
       "metadata": {},
       "output_type": "pyout",
       "prompt_number": 48,
       "text": [
        " 16\n",
        "[torch.LongStorage of size 1]\n",
        "\n",
        "10\t\n"
       ]
      }
     ],
     "prompt_number": 48
    },
    {
     "cell_type": "code",
     "collapsed": false,
     "input": [
      "len"
     ],
     "language": "python",
     "metadata": {},
     "outputs": [
      {
       "metadata": {},
       "output_type": "pyout",
       "prompt_number": 38,
       "text": [
        " 16\n",
        "[torch.LongStorage of size 1]\n",
        "\n"
       ]
      }
     ],
     "prompt_number": 38
    },
    {
     "cell_type": "code",
     "collapsed": false,
     "input": [
      "A = 16\n",
      "print (A)"
     ],
     "language": "python",
     "metadata": {},
     "outputs": [
      {
       "metadata": {},
       "output_type": "pyout",
       "prompt_number": 40,
       "text": [
        "16\t\n"
       ]
      }
     ],
     "prompt_number": 40
    },
    {
     "cell_type": "code",
     "collapsed": false,
     "input": [
      "A"
     ],
     "language": "python",
     "metadata": {},
     "outputs": [
      {
       "metadata": {},
       "output_type": "pyout",
       "prompt_number": 41,
       "text": [
        "16\t\n"
       ]
      }
     ],
     "prompt_number": 41
    },
    {
     "cell_type": "code",
     "collapsed": false,
     "input": [],
     "language": "python",
     "metadata": {},
     "outputs": []
    }
   ],
   "metadata": {}
  }
 ]
}