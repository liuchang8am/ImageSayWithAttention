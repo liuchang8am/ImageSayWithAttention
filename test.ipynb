{
 "metadata": {
  "language": "lua",
  "name": "",
  "signature": "sha256:a1a4878ddceb74c8fe1dbaecc939677cf05251088ee300579c169758b6bf2fce"
 },
 "nbformat": 3,
 "nbformat_minor": 0,
 "worksheets": [
  {
   "cells": [
    {
     "cell_type": "code",
     "collapsed": false,
     "input": [
      "require 'misc.loadData'"
     ],
     "language": "python",
     "metadata": {},
     "outputs": [
      {
       "metadata": {},
       "output_type": "pyout",
       "prompt_number": 9,
       "text": [
        "true\t\n"
       ]
      }
     ],
     "prompt_number": 9
    },
    {
     "cell_type": "code",
     "collapsed": false,
     "input": [
      "h5_datapath = \"/home/lc/codes/ImageSayWithAttention/data/flickr8k/data.h5\""
     ],
     "language": "python",
     "metadata": {},
     "outputs": [],
     "prompt_number": 3
    },
    {
     "cell_type": "code",
     "collapsed": false,
     "input": [
      "h5_data = loadData(h5_datapath)"
     ],
     "language": "python",
     "metadata": {},
     "outputs": [
      {
       "ename": "./misc/utils.lua:19: Expected value but found invalid token at character 1\nstack traceback:\n\t[C]: in function 'decode'\n\t./misc/utils.lua:19: in function 'loadData'\n\t[string \"h5_data = loadData(h5_datapath)...\"]:1: in main chunk\n\t[C]: in function 'xpcall'\n\t/home/lc/torch/install/share/lua/5.1/itorch/main.lua:179: in function </home/lc/torch/install/share/lua/5.1/itorch/main.lua:143>\n\t/home/lc/torch/install/share/lua/5.1/lzmq/poller.lua:75: in function 'poll'\n\t/home/lc/torch/install/share/lua/5.1/lzmq/impl/loop.lua:307: in function 'poll'\n\t/home/lc/torch/install/share/lua/5.1/lzmq/impl/loop.lua:325: in function 'sleep_ex'\n\t/home/lc/torch/install/share/lua/5.1/lzmq/impl/loop.lua:370: in function 'start'\n\t/home/lc/torch/install/share/lua/5.1/itorch/main.lua:350: in main chunk\n\t[C]: in function 'require'\n\t[string \"arg={'/home/lc/.ipython/profile_torch/securit...\"]:1: in main chunk",
       "evalue": "",
       "output_type": "pyerr",
       "traceback": [
        "./misc/utils.lua:19: Expected value but found invalid token at character 1\nstack traceback:\n\t[C]: in function 'decode'\n\t./misc/utils.lua:19: in function 'loadData'\n\t[string \"h5_data = loadData(h5_datapath)...\"]:1: in main chunk\n\t[C]: in function 'xpcall'\n\t/home/lc/torch/install/share/lua/5.1/itorch/main.lua:179: in function </home/lc/torch/install/share/lua/5.1/itorch/main.lua:143>\n\t/home/lc/torch/install/share/lua/5.1/lzmq/poller.lua:75: in function 'poll'\n\t/home/lc/torch/install/share/lua/5.1/lzmq/impl/loop.lua:307: in function 'poll'\n\t/home/lc/torch/install/share/lua/5.1/lzmq/impl/loop.lua:325: in function 'sleep_ex'\n\t/home/lc/torch/install/share/lua/5.1/lzmq/impl/loop.lua:370: in function 'start'\n\t/home/lc/torch/install/share/lua/5.1/itorch/main.lua:350: in main chunk\n\t[C]: in function 'require'\n\t[string \"arg={'/home/lc/.ipython/profile_torch/securit...\"]:1: in main chunk"
       ]
      }
     ],
     "prompt_number": 10
    },
    {
     "cell_type": "code",
     "collapsed": false,
     "input": [],
     "language": "python",
     "metadata": {},
     "outputs": []
    }
   ],
   "metadata": {}
  }
 ]
}