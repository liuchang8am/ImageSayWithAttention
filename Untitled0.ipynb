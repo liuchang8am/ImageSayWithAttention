{
 "metadata": {
  "language": "lua",
  "name": "",
  "signature": "sha256:fffec8207d0fdf1ea7e901de220602b022a7af675397649fd4fa66c194338bce"
 },
 "nbformat": 3,
 "nbformat_minor": 0,
 "worksheets": [
  {
   "cells": [
    {
     "cell_type": "code",
     "collapsed": false,
     "input": [
      "require \"dp\"\n",
      "ds = dp[\"Mnist\"]()"
     ],
     "language": "python",
     "metadata": {},
     "outputs": [],
     "prompt_number": 2
    },
    {
     "cell_type": "code",
     "collapsed": false,
     "input": [
      "ds:set('train', 'input', 'hw', torch.randn(3,4))\n",
      "A = ds:get('train', 'input', 'default')[2][1]\n",
      "print (A)\n",
      "--require 'image'\n",
      "--image.display(A)"
     ],
     "language": "python",
     "metadata": {},
     "outputs": [
      {
       "metadata": {},
       "output_type": "pyout",
       "prompt_number": 20,
       "text": [
        "1.2876348194093\t\n"
       ]
      }
     ],
     "prompt_number": 20
    },
    {
     "cell_type": "code",
     "collapsed": false,
     "input": [],
     "language": "python",
     "metadata": {},
     "outputs": []
    }
   ],
   "metadata": {}
  }
 ]
}